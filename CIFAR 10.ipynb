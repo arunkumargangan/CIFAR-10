{
 "cells": [
  {
   "cell_type": "code",
   "execution_count": 1,
   "id": "cfe62870-2994-4dc2-bdb1-c1136cce24bc",
   "metadata": {},
   "outputs": [],
   "source": [
    "import tensorflow as tf\n",
    "from tensorflow.keras import datasets,layers,models\n",
    "import matplotlib.pyplot as plt\n",
    "import numpy as np \n",
    "import warnings\n",
    "warnings.filterwarnings('ignore')"
   ]
  },
  {
   "cell_type": "code",
   "execution_count": 3,
   "id": "c2b8a736-95af-45a6-b345-67fcb40233ce",
   "metadata": {},
   "outputs": [
    {
     "data": {
      "text/plain": [
       "(50000, 32, 32, 3)"
      ]
     },
     "execution_count": 3,
     "metadata": {},
     "output_type": "execute_result"
    }
   ],
   "source": [
    "(X_train,y_train),(X_test,y_test) = datasets.cifar10.load_data()\n",
    "X_train.shape\n"
   ]
  },
  {
   "cell_type": "code",
   "execution_count": 4,
   "id": "897d16cc-0400-4984-8156-f19e4a1d1d50",
   "metadata": {},
   "outputs": [
    {
     "data": {
      "text/plain": [
       "(10000, 32, 32, 3)"
      ]
     },
     "execution_count": 4,
     "metadata": {},
     "output_type": "execute_result"
    }
   ],
   "source": [
    "X_test.shape"
   ]
  },
  {
   "cell_type": "code",
   "execution_count": 5,
   "id": "022e0dc3-ed73-4731-98ba-eb820e63987e",
   "metadata": {
    "scrolled": true
   },
   "outputs": [
    {
     "data": {
      "text/plain": [
       "array([[[ 28,  25,  10],\n",
       "        [ 37,  34,  19],\n",
       "        [ 38,  35,  20],\n",
       "        ...,\n",
       "        [ 76,  67,  39],\n",
       "        [ 81,  72,  43],\n",
       "        [ 85,  76,  47]],\n",
       "\n",
       "       [[ 33,  28,  13],\n",
       "        [ 34,  30,  14],\n",
       "        [ 32,  27,  12],\n",
       "        ...,\n",
       "        [ 95,  82,  55],\n",
       "        [ 96,  82,  56],\n",
       "        [ 85,  72,  45]],\n",
       "\n",
       "       [[ 39,  32,  15],\n",
       "        [ 40,  33,  17],\n",
       "        [ 57,  50,  33],\n",
       "        ...,\n",
       "        [ 93,  76,  52],\n",
       "        [107,  89,  66],\n",
       "        [ 95,  77,  54]],\n",
       "\n",
       "       ...,\n",
       "\n",
       "       [[ 83,  73,  52],\n",
       "        [ 87,  77,  56],\n",
       "        [ 84,  74,  52],\n",
       "        ...,\n",
       "        [ 99,  93,  70],\n",
       "        [ 90,  84,  61],\n",
       "        [ 81,  75,  52]],\n",
       "\n",
       "       [[ 88,  72,  51],\n",
       "        [ 90,  74,  52],\n",
       "        [ 93,  77,  56],\n",
       "        ...,\n",
       "        [ 80,  74,  53],\n",
       "        [ 76,  70,  49],\n",
       "        [ 82,  76,  55]],\n",
       "\n",
       "       [[ 97,  78,  56],\n",
       "        [ 94,  75,  53],\n",
       "        [ 93,  75,  53],\n",
       "        ...,\n",
       "        [ 54,  47,  28],\n",
       "        [ 63,  56,  37],\n",
       "        [ 72,  65,  46]]], dtype=uint8)"
      ]
     },
     "execution_count": 5,
     "metadata": {},
     "output_type": "execute_result"
    }
   ],
   "source": [
    "X_train[3]"
   ]
  },
  {
   "cell_type": "code",
   "execution_count": 6,
   "id": "77e42c4b-8439-4446-b25c-4b8bc0a0158d",
   "metadata": {},
   "outputs": [],
   "source": [
    "def plot(X,y,index):\n",
    "    plt.imshow(X[index])\n",
    "    plt.xlabel(classes[y[index]])"
   ]
  },
  {
   "cell_type": "code",
   "execution_count": 7,
   "id": "37369ba9-5269-4b44-a30f-8e33fabc34f1",
   "metadata": {},
   "outputs": [],
   "source": [
    "classes = ['Airplane','Automobile','Bird','Cat','deer','dog','frog','horse','ship','truck']"
   ]
  },
  {
   "cell_type": "code",
   "execution_count": 8,
   "id": "2e1c869f-fef6-4dd3-961e-60b4a29c9e36",
   "metadata": {},
   "outputs": [
    {
     "data": {
      "text/plain": [
       "array([4], dtype=uint8)"
      ]
     },
     "execution_count": 8,
     "metadata": {},
     "output_type": "execute_result"
    }
   ],
   "source": [
    "y_train[3]"
   ]
  },
  {
   "cell_type": "code",
   "execution_count": 9,
   "id": "ae539115-ab05-4764-91df-7ed9b1dada1d",
   "metadata": {},
   "outputs": [],
   "source": [
    "y_train = y_train.reshape(-1,)"
   ]
  },
  {
   "cell_type": "code",
   "execution_count": 10,
   "id": "b623746f-cbef-4cc0-acfb-21500c4f4c51",
   "metadata": {},
   "outputs": [
    {
     "data": {
      "text/plain": [
       "array([6, 9, 9, ..., 9, 1, 1], dtype=uint8)"
      ]
     },
     "execution_count": 10,
     "metadata": {},
     "output_type": "execute_result"
    }
   ],
   "source": [
    "y_train"
   ]
  },
  {
   "cell_type": "code",
   "execution_count": 11,
   "id": "37005aba-1278-4520-a807-51f0012b8e91",
   "metadata": {},
   "outputs": [],
   "source": [
    "y_test = y_test.reshape(-1,)"
   ]
  },
  {
   "cell_type": "code",
   "execution_count": 12,
   "id": "9c4b32a3-bc79-4f92-a1dc-ca58e423896c",
   "metadata": {},
   "outputs": [
    {
     "data": {
      "text/plain": [
       "array([3, 8, 8, ..., 5, 1, 7], dtype=uint8)"
      ]
     },
     "execution_count": 12,
     "metadata": {},
     "output_type": "execute_result"
    }
   ],
   "source": [
    "y_test"
   ]
  },
  {
   "cell_type": "code",
   "execution_count": 13,
   "id": "0989b168-18de-4025-9fb0-580a54fd9e2c",
   "metadata": {},
   "outputs": [
    {
     "data": {
      "image/png": "[encoded data removed]",
      "text/plain": [
       "<Figure size 640x480 with 1 Axes>"
      ]
     },
     "metadata": {},
     "output_type": "display_data"
    }
   ],
   "source": [
    "plot(X_train,y_train,12345)"
   ]
  },
  {
   "cell_type": "code",
   "execution_count": 14,
   "id": "3c78c0cd-321c-4c7f-b339-1810b288de1e",
   "metadata": {},
   "outputs": [
    {
     "data": {
      "image/png": "[encoded data removed]",
      "text/plain": [
       "<Figure size 640x480 with 1 Axes>"
      ]
     },
     "metadata": {},
     "output_type": "display_data"
    }
   ],
   "source": [
    "plot(X_train,y_train,3)"
   ]
  },
  {
   "cell_type": "code",
   "execution_count": 15,
   "id": "31297b4a-bcf2-4af1-bd56-c9cf59f5c16b",
   "metadata": {},
   "outputs": [],
   "source": [
    "X_train = X_train/255\n",
    "X_test = X_test/255"
   ]
  },
  {
   "cell_type": "code",
   "execution_count": 17,
   "id": "342e21ab-b305-4e19-8078-89b8d9879d79",
   "metadata": {},
   "outputs": [],
   "source": [
    "ANN = models.Sequential([\n",
    "    layers.Flatten(input_shape=(32,32,3)),\n",
    "    layers.Dense(3000,activation='relu'),\n",
    "    layers.Dense(1000,activation='relu'),\n",
    "    layers.Dense(10,activation='sigmoid')])"
   ]
  },
  {
   "cell_type": "code",
   "execution_count": 21,
   "id": "19a52cb3-9ff7-4700-8904-b4f74bc9c6b4",
   "metadata": {},
   "outputs": [],
   "source": [
    "ANN.compile(optimizer='adam',loss='sparse_categorical_crossentropy',metrics=['accuracy'])"
   ]
  },
  {
   "cell_type": "code",
   "execution_count": 22,
   "id": "822ca735-55b8-4d47-b924-167645ac6cfe",
   "metadata": {},
   "outputs": [
    {
     "name": "stdout",
     "output_type": "stream",
     "text": [
      "Epoch 1/3\n",
      "\u001b[1m1563/1563\u001b[0m \u001b[32m━━━━━━━━━━━━━━━━━━━━\u001b[0m\u001b[37m\u001b[0m \u001b[1m199s\u001b[0m 125ms/step - accuracy: 0.2746 - loss: 2.1984\n",
      "Epoch 2/3\n",
      "\u001b[1m1563/1563\u001b[0m \u001b[32m━━━━━━━━━━━━━━━━━━━━\u001b[0m\u001b[37m\u001b[0m \u001b[1m203s\u001b[0m 126ms/step - accuracy: 0.3915 - loss: 1.6902\n",
      "Epoch 3/3\n",
      "\u001b[1m1563/1563\u001b[0m \u001b[32m━━━━━━━━━━━━━━━━━━━━\u001b[0m\u001b[37m\u001b[0m \u001b[1m202s\u001b[0m 126ms/step - accuracy: 0.4240 - loss: 1.6057\n"
     ]
    },
    {
     "data": {
      "text/plain": [
       "<keras.src.callbacks.history.History at 0x22888440ce0>"
      ]
     },
     "execution_count": 22,
     "metadata": {},
     "output_type": "execute_result"
    }
   ],
   "source": [
    "ANN.fit(X_train,y_train,epochs=3)"
   ]
  },
  {
   "cell_type": "code",
   "execution_count": 28,
   "id": "4af6477b-2da2-4d2f-85b8-96095ee1f25f",
   "metadata": {},
   "outputs": [],
   "source": [
    "CNN = models.Sequential([\n",
    "    layers.Conv2D(filters=32,kernel_size=(3,3),activation='relu',input_shape=(32,32,3)),\n",
    "    layers.MaxPooling2D((2,2)),\n",
    "    layers.Conv2D(filters=64,kernel_size=(3,3),activation='relu'),\n",
    "    layers.MaxPooling2D((2,2)),\n",
    "    layers.Flatten(),\n",
    "    layers.Dense(3000,activation='relu'),\n",
    "    layers.Dense(1000,activation='relu'), \n",
    "    layers.Dense(10,activation='sigmoid')])         "
   ]
  },
  {
   "cell_type": "code",
   "execution_count": 29,
   "id": "27259ee4-7701-4887-b347-5f78c0ed6994",
   "metadata": {},
   "outputs": [],
   "source": [
    "CNN.compile(optimizer='adam',loss='sparse_categorical_crossentropy',metrics=['accuracy'])"
   ]
  },
  {
   "cell_type": "code",
   "execution_count": 30,
   "id": "f72907a4-eb18-44ab-8ca6-3f0e0437ef6b",
   "metadata": {},
   "outputs": [
    {
     "name": "stdout",
     "output_type": "stream",
     "text": [
      "Epoch 1/3\n",
      "\u001b[1m1563/1563\u001b[0m \u001b[32m━━━━━━━━━━━━━━━━━━━━\u001b[0m\u001b[37m\u001b[0m \u001b[1m192s\u001b[0m 120ms/step - accuracy: 0.4137 - loss: 1.5888\n",
      "Epoch 2/3\n",
      "\u001b[1m1563/1563\u001b[0m \u001b[32m━━━━━━━━━━━━━━━━━━━━\u001b[0m\u001b[37m\u001b[0m \u001b[1m187s\u001b[0m 119ms/step - accuracy: 0.6563 - loss: 0.9732\n",
      "Epoch 3/3\n",
      "\u001b[1m1563/1563\u001b[0m \u001b[32m━━━━━━━━━━━━━━━━━━━━\u001b[0m\u001b[37m\u001b[0m \u001b[1m190s\u001b[0m 121ms/step - accuracy: 0.7503 - loss: 0.7073\n"
     ]
    },
    {
     "data": {
      "text/plain": [
       "<keras.src.callbacks.history.History at 0x228878b45f0>"
      ]
     },
     "execution_count": 30,
     "metadata": {},
     "output_type": "execute_result"
    }
   ],
   "source": [
    "CNN.fit(X_train,y_train,epochs=3)"
   ]
  },
  {
   "cell_type": "code",
   "execution_count": 31,
   "id": "28b47b89-110e-4e04-89c7-7ca186981f47",
   "metadata": {},
   "outputs": [
    {
     "name": "stdout",
     "output_type": "stream",
     "text": [
      "\u001b[1m313/313\u001b[0m \u001b[32m━━━━━━━━━━━━━━━━━━━━\u001b[0m\u001b[37m\u001b[0m \u001b[1m8s\u001b[0m 24ms/step - accuracy: 0.7032 - loss: 0.8763\n"
     ]
    },
    {
     "data": {
      "text/plain": [
       "[0.875049889087677, 0.7024000287055969]"
      ]
     },
     "execution_count": 31,
     "metadata": {},
     "output_type": "execute_result"
    }
   ],
   "source": [
    "CNN.evaluate(X_test,y_test)"
   ]
  },
  {
   "cell_type": "code",
   "execution_count": null,
   "id": "8167835a-3c03-498e-a5a0-48d0cf7c2ef5",
   "metadata": {},
   "outputs": [],
   "source": []
  }
 ],
 "metadata": {
  "kernelspec": {
   "display_name": "Python 3 (ipykernel)",
   "language": "python",
   "name": "python3"
  },
  "language_info": {
   "codemirror_mode": {
    "name": "ipython",
    "version": 3
   },
   "file_extension": ".py",
   "mimetype": "text/x-python",
   "name": "python",
   "nbconvert_exporter": "python",
   "pygments_lexer": "ipython3",
   "version": "3.12.7"
  }
 },
 "nbformat": 4,
 "nbformat_minor": 5
}
